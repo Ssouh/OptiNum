{
 "cells": [
  {
   "cell_type": "markdown",
   "metadata": {},
   "source": [
    "<center>\n",
    "<h1> TP-Projet d'optimisation numérique </h1>\n",
    "<h1> Année 2020-2021 - 2e année département Sciences du Numérique </h1>\n",
    "<h1> Groupe: Echcheblaouy Yassine Et Amghar Souhail</h1> \n",
    "</center>"
   ]
  },
  {
   "cell_type": "markdown",
   "metadata": {},
   "source": [
    "# Algorithme de Newton\n",
    "## Implémentation \n",
    " \n",
    "1. Coder l’algorithme de Newton local tel que décrit dans la section *Algorithme de Newton* (fichier `Algorithme_De_Newton.jl`)\n",
    "\n",
    "2. Tester l’algorithme sur les fonctions $f_{1}$ , $f_{2}$ avec les points initiaux $x_{011}$ , $x_{012}$ (pour $f_{1}$ ) et $x_{021}$ , $x_{022}$ , $x_{023}$ (pour $f_{2}$ ) donnés en Annexe A."
   ]
  },
  {
   "cell_type": "code",
   "execution_count": 6,
   "metadata": {},
   "outputs": [],
   "source": [
    "using Pkg\n",
    "Pkg.status()\n",
    "Pkg.add(\"DifferentialEquations\")\n",
    "Pkg.add(\"Roots\")"
   ]
  },
  {
   "cell_type": "code",
   "execution_count": 10,
   "metadata": {},
   "outputs": [
    {
     "name": "stdout",
     "output_type": "stream",
     "text": [
      "-------------------------------------------------------------------------\n",
      "\u001b[34m\u001b[1mRésultats de : Newton appliqué à f0 au point initial -1.5707963267948966:\u001b[22m\u001b[39m\n",
      "  * xsol = -1.5707963267948966\n",
      "  * f(xsol) = -1.0\n",
      "  * nb_iters = 1\n",
      "  * flag = 0\n",
      "  * sol_exacte : -1.5707963267948966\n",
      "-------------------------------------------------------------------------\n",
      "\u001b[34m\u001b[1mRésultats de : Newton appliqué à f0 au point initial -1.0707963267948966:\u001b[22m\u001b[39m\n",
      "  * xsol = -1.5707963267949088\n",
      "  * f(xsol) = -1.0\n",
      "  * nb_iters = 3\n",
      "  * flag = 2\n",
      "  * sol_exacte : -1.5707963267948966\n",
      "-------------------------------------------------------------------------\n",
      "\u001b[34m\u001b[1mRésultats de : Newton appliqué à f0 au point initial 1.5707963267948966:\u001b[22m\u001b[39m\n",
      "  * xsol = 1.5707963267948966\n",
      "  * f(xsol) = 1.0\n",
      "  * nb_iters = 1\n",
      "  * flag = 0\n",
      "  * sol_exacte : -1.5707963267948966\n"
     ]
    }
   ],
   "source": [
    "#using Pkg; Pkg.add(\"LinearAlgebra\"); Pkg.add(\"Markdown\")\n",
    "# using Documenter\n",
    "using LinearAlgebra\n",
    "using Markdown                             # Pour que les docstrings en début des fonctions ne posent\n",
    "                                           # pas de soucis. Ces docstrings sont utiles pour générer \n",
    "                                           # la documentation sous GitHub\n",
    "include(\"Algorithme_De_Newton.jl\")\n",
    "\n",
    "# Affichage les sorties de l'algorithme des Régions de confiance\n",
    "function my_afficher_resultats(algo,nom_fct,point_init,xmin,fxmin,flag,sol_exacte,nbiters)\n",
    "\tprintln(\"-------------------------------------------------------------------------\")\n",
    "\tprintstyled(\"Résultats de : \",algo, \" appliqué à \",nom_fct, \" au point initial \", point_init, \":\\n\",bold=true,color=:blue)\n",
    "\tprintln(\"  * xsol = \",xmin)\n",
    "\tprintln(\"  * f(xsol) = \",fxmin)\n",
    "\tprintln(\"  * nb_iters = \",nbiters)\n",
    "\tprintln(\"  * flag = \",flag)\n",
    "\tprintln(\"  * sol_exacte : \", sol_exacte)\n",
    "end\n",
    "\n",
    "# Fonction f0\n",
    "# -----------\n",
    "f0(x) =  sin(x)\n",
    "# la gradient de la fonction f0\n",
    "grad_f0(x) = cos(x)\n",
    "# la hessienne de la fonction f0\n",
    "hess_f0(x) = -sin(x)\n",
    "sol_exacte = -pi/2\n",
    "options = []\n",
    "\n",
    "x0 = sol_exacte\n",
    "xmin,f_min,flag,nb_iters = Algorithme_De_Newton(f0,grad_f0,hess_f0,x0,options)\n",
    "my_afficher_resultats(\"Newton\",\"f0\",x0,xmin,f_min,flag,sol_exacte,nb_iters)\n",
    "x0 = -pi/2+0.5\n",
    "xmin,f_min,flag,nb_iters = Algorithme_De_Newton(f0,grad_f0,hess_f0,x0,options)\n",
    "my_afficher_resultats(\"Newton\",\"f0\",x0,xmin,f_min,flag,sol_exacte,nb_iters)\n",
    "x0 = pi/2\n",
    "xmin,f_min,flag,nb_iters = Algorithme_De_Newton(f0,grad_f0,hess_f0,x0,options)\n",
    "my_afficher_resultats(\"Newton\",\"f0\",x0,xmin,f_min,flag,sol_exacte,nb_iters)"
   ]
  },
  {
   "cell_type": "markdown",
   "metadata": {},
   "source": [
    "## Interprétation \n",
    "\n",
    "Justifier\n",
    "\n",
    "1. les résultats obtenus pour l'exemple $f_0$ ci-dessus;\n",
    "\n",
    "2. que l’algorithme implémenté converge en une itération pour $f_{1}$;\n",
    "\n",
    "3. que l’algorithme puisse ne pas converger pour $f_{2}$ avec certains points initiaux."
   ]
  },
  {
   "cell_type": "markdown",
   "metadata": {},
   "source": [
    "## Vos réponses?\n"
   ]
  },
  {
   "cell_type": "markdown",
   "metadata": {},
   "source": [
    "# Régions de confiance avec pas de cauchy \n",
    "\n",
    "## Implémentation \n",
    "\n",
    "1. Coder l'algorithme du pas de Cauchy d’un sous-problème de\n",
    "régions de confiance (fichier `Pas_De_Cauchy.jl`). Tester sur les quadratiques proposées en Annexe B.\n",
    "\n",
    "2. Coder l'algorithme de régions de confiance (fichier `Regions_De_Confiance.jl`). Tester sur les problèmes de l’Annexe A."
   ]
  },
  {
   "cell_type": "code",
   "execution_count": 11,
   "metadata": {},
   "outputs": [
    {
     "name": "stdout",
     "output_type": "stream",
     "text": [
      "Pour x011:  xmin=[1.0000992630512804, 1.0000133251720142, 0.9999273872927483] f(xmin)=1.7966721951322015e-8 flag=2 nb_iters=26\n",
      "Pour x012:  xmin=[1.0000847024680153, 1.0000172093242645, 0.9999497160910066] f(xmin)=1.4441537654214883e-8 flag=2 nb_iters=28\n"
     ]
    }
   ],
   "source": [
    "include(\"Pas_De_Cauchy.jl\")\n",
    "include(\"Regions_De_Confiance.jl\")\n",
    "\n",
    "# Quadratique 1\n",
    "g1 = [1; 0]\n",
    "H1 = [7 0; 0 2]\n",
    "delta1 = 1\n",
    "s1, e1 = Pas_De_Cauchy(g1,H1,delta1)\n",
    "\n",
    "# Quadratique 2\n",
    "g2 = [6; 2]\n",
    "H2 = [7 0; 0 2]\n",
    "s2, e2 = Pas_De_Cauchy(g2, H2, delta1)\n",
    "\n",
    "# Quadratique 3\n",
    "g3 = [-2; 1]\n",
    "H3 = [-2 0; 0 10]\n",
    "\n",
    "algo=\"cauchy\"\n",
    "f(x)=2*(x[1]+x[2]+x[3]-3)^2+(x[1]-x[2])^2+(x[2]-x[3])^2\n",
    "gradf(x)=[\n",
    "    4*(x[1]+x[2]+x[3]-3)+2*(x[1]-x[2]);\n",
    "    4*(x[1]+x[2]+x[3]-3)-2*(x[1]-x[2])+2*(x[2]-x[3]);\n",
    "    4*(x[1]+x[2]+x[3]-3)-2*(x[2]-x[3])\n",
    "]\n",
    "\n",
    "hessf(x) = [\n",
    "    6 2 4;\n",
    "    2 8 2;\n",
    "    4 2 6;\n",
    "]\n",
    "\n",
    "x011 = [1; 0; 0]\n",
    "x012 = [10; 3; -2.2]\n",
    "options = []\n",
    "xmin, fxmin, flag, nb_iters = Regions_De_Confiance(algo,f,gradf,hessf,x011,options)\n",
    "println(\"Pour x011: \", \" xmin=\", xmin, \" f(xmin)=\", fxmin, \" flag=\", flag, \" nb_iters=\", nb_iters)\n",
    "\n",
    "xmin, fxmin, flag, nb_iters = Regions_De_Confiance(algo,f,gradf,hessf,x012,options)\n",
    "println(\"Pour x012: \", \" xmin=\", xmin, \" f(xmin)=\", fxmin, \" flag=\", flag, \" nb_iters=\", nb_iters)"
   ]
  },
  {
   "cell_type": "markdown",
   "metadata": {},
   "source": [
    "## Interprétation \n",
    "\n",
    "1. Quelle relation lie la fonction test $f_1$ et son modèle de Taylor à l’ordre 2 ? Comparer alors les performances de Newton et RC-Pas de Cauchy sur cette fonction.\n",
    "\n",
    "2. Le rayon initial de la région de confiance est un paramètre important dans l’analyse\n",
    "de la performance de l’algorithme. Sur quel(s) autre(s) paramètre(s) peut-on jouer\n",
    "pour essayer d’améliorer cette performance ? Étudier l’influence d’au moins deux de\n",
    "ces paramètres."
   ]
  },
  {
   "cell_type": "markdown",
   "metadata": {},
   "source": [
    "## Vos réponses?\n"
   ]
  },
  {
   "cell_type": "markdown",
   "metadata": {},
   "source": [
    "# Régions de confiance avec gradient conjugué tronqué\n",
    "\n",
    "## Implémentation \n",
    "\n",
    "1. Implémenter l’algorithme du Gradient Conjugué Tronqué, en se basant sur le cours (fichier `Gradient_Conjugue_Tronque.jl`).\n",
    "On validera les résultats sur les fonctions de l’Annexe C.\n",
    "\n",
    "2. Intégrer finalement l’algorithme du Gradient Conjugué Tronqué dans le code de\n",
    "régions de confiance, et appliquer ce code pour résoudre les exemples proposés en\n",
    "Annexe A."
   ]
  },
  {
   "cell_type": "code",
   "execution_count": 12,
   "metadata": {},
   "outputs": [
    {
     "ename": "LoadError",
     "evalue": "ArgumentError: Package Roots not found in current path:\n- Run `import Pkg; Pkg.add(\"Roots\")` to install the Roots package.\n",
     "output_type": "error",
     "traceback": [
      "ArgumentError: Package Roots not found in current path:\n- Run `import Pkg; Pkg.add(\"Roots\")` to install the Roots package.\n",
      "",
      "Stacktrace:",
      " [1] require(::Module, ::Symbol) at ./loading.jl:892",
      " [2] include(::String) at ./client.jl:439",
      " [3] top-level scope at In[12]:1"
     ]
    }
   ],
   "source": [
    "include(\"Gradient_Conjugue_Tronque.jl\")\n",
    "\n",
    "gradf(x)=[-400*x[1]*(x[2]-x[1]^2)-2*(1-x[1]) ; 200*(x[2]-x[1]^2)]\n",
    "hessf(x)=[-400*(x[2]-3*x[1]^2)+2  -400*x[1];-400*x[1]  200]\n",
    "xk = [1; 0]\n",
    "options = []\n",
    "s = Gradient_Conjugue_Tronque(gradf(xk),hessf(xk),options)"
   ]
  },
  {
   "cell_type": "markdown",
   "metadata": {},
   "source": [
    "## Interprétation  \n",
    "\n",
    "1. Comparer la décroissance obtenue avec celle du pas de Cauchy, en retournant, dans\n",
    "un premier temps le dernier itéré admissible à courbure positive (c’est à dire, que si\n",
    "l’une ou l’autre des deux conditions (b) ou (d) sont rencontrées dans l’algorithme 3,\n",
    "alors on ne calcule pas ``σ_{j}`` et on retourne le dernier itéré ``s_{j}`` directement).\n",
    "\n",
    "2. Comparer la décroissance obtenue avec celle du pas de Cauchy, en imposant la sortie\n",
    "dans l’algorithme 3 au bout d’une itération seulement. Que remarquez vous ?\n",
    "\n",
    "3. Comparer la décroissance obtenue avec celle du pas de Cauchy dans le cas général.\n",
    "\n",
    "4. Quels sont les avantages et inconvénients des deux approches ?"
   ]
  },
  {
   "cell_type": "markdown",
   "metadata": {},
   "source": [
    "## Vos réponses?\n"
   ]
  },
  {
   "cell_type": "markdown",
   "metadata": {},
   "source": [
    "# Lagrangien augmenté\n",
    "\n",
    "## Implémentation\n",
    "1.Choisir des critères d’arrêt pour la convergence de l'algorithme.\n",
    "\n",
    "2.Implémenter l'algorithme du lagrangien augmenté, en utilisant les différentes méthodes\n",
    "qui ont été vues en première partie pour la résolution de la suite de problémes sans\n",
    "contraintes (fichier `Lagrangien_Augmente.jl`)\n",
    " \n",
    "3.Tester les différentes variantes sur les problèmes en Annexe D.\n",
    " "
   ]
  },
  {
   "cell_type": "code",
   "execution_count": 29,
   "metadata": {},
   "outputs": [
    {
     "name": "stdout",
     "output_type": "stream",
     "text": [
      "-------------------------------------------------------------------------\n",
      "\u001b[34m\u001b[1mRésultats de : Lagrangien Augmente appliqué à f0 au point initial [1, 0]:\u001b[22m\u001b[39m\n",
      "  * xsol = [0.9072339560078764, 0.822755448127714]\n",
      "  * f(xsol) = 0.008615650659899972\n",
      "  * nb_iters = 6\n",
      "  * flag = 0   \n",
      "       * **flag** :  indicateur du déroulement de l'algorithme\n",
      "           - **0**    : convergence\n",
      "           - **1**    : nombre maximal d'itération atteint\n",
      "           - **(-1)** : une erreur s'est produite\n",
      "  * sol_exacte : 0\n",
      "-------------------------------------------------------------------------\n",
      "\u001b[34m\u001b[1mRésultats de : Lagrangien Augmente appliqué à f1 au point initial [5, 1, 1]:\u001b[22m\u001b[39m\n",
      "  * xsol = [1.0892000059763152e-6, 2.178400011951763e-7, 5.0]\n",
      "  * f(xsol) = 3.084846798883446e-12\n",
      "  * nb_iters = 2\n",
      "  * flag = 0   \n",
      "       * **flag** :  indicateur du déroulement de l'algorithme\n",
      "           - **0**    : convergence\n",
      "           - **1**    : nombre maximal d'itération atteint\n",
      "           - **(-1)** : une erreur s'est produite\n",
      "  * sol_exacte : [0, 0, 5]\n"
     ]
    }
   ],
   "source": [
    "# Vos tests\n",
    "using LinearAlgebra\n",
    "using Markdown                             # Pour que les docstrings en début des fonctions ne posent\n",
    "                                           # pas de soucis. Ces docstrings sont utiles pour générer \n",
    "include(\"Lagrangien_Augmente.jl\")         \n",
    "include(\"Algorithme_De_Newton.jl\")\n",
    "\n",
    "\n",
    "# Affichage les sorties de l'algorithme des Régions de confiance\n",
    "function my_afficher_resultats(algo,nom_fct,point_init,xmin,fxmin,flag,sol_exacte,nbiters)\n",
    "\tprintln(\"-------------------------------------------------------------------------\")\n",
    "\tprintstyled(\"Résultats de : \",algo, \" appliqué à \",nom_fct, \" au point initial \", point_init, \":\\n\",bold=true,color=:blue)\n",
    "\tprintln(\"  * xsol = \",xmin)\n",
    "\tprintln(\"  * f(xsol) = \",fxmin)\n",
    "\tprintln(\"  * nb_iters = \",nbiters)\n",
    "\tprintln(\"  * flag = \",flag, \"   \n",
    "       * **flag** :  indicateur du déroulement de l'algorithme\n",
    "           - **0**    : convergence\n",
    "           - **1**    : nombre maximal d'itération atteint\n",
    "           - **(-1)** : une erreur s'est produite\")\n",
    "\tprintln(\"  * sol_exacte : \", sol_exacte)\n",
    "end\n",
    "\n",
    "# Fonction f0\n",
    "# -----------\n",
    "f0(x) =  100*(x[2]-x[1]^2)^2+(1-x[1])^2\n",
    "# la gradient de la fonction f0\n",
    "grad_f0(x) = [-400*x[1]*(x[2]-x[1]^2)-2*(1-x[1]) ; 200*(x[2]-x[1]^2)]\n",
    "# la hessienne de la fonction f0\n",
    "hess_f0(x) = [-400*(x[2]-3*x[1]^2)+2  -400*x[1];-400*x[1]  200]\n",
    "algo = \"newton\" # ou newton|gct\n",
    "options = [1e-8;1e-6;1e4;2;9;2]\n",
    "x0 = [1; 0]\n",
    "sol_exacte = 0 # A completer \n",
    "\n",
    "# Les données sur les contraintes \n",
    "# -----------\n",
    "contrainte(x) =  (x[1]^2) + (x[2]^2) -1.5\n",
    "grad_contrainte(x) = [2*x[1] ;2*x[2]]\n",
    "hess_contrainte(x) = [2 0;0 2]\n",
    "\n",
    "xmin,f_min,flag,nb_iters = Lagrangien_Augmente(algo,f0,contrainte,grad_f0,hess_f0,grad_contrainte,hess_contrainte,x0,options)\n",
    "my_afficher_resultats(\"Lagrangien Augmente\",\"f0\",x0,xmin,f_min,flag,sol_exacte,nb_iters)\n",
    "\n",
    "\n",
    "####################################################################\n",
    "####################################################################\n",
    "####################################################################\n",
    "\n",
    "# Fonction f1\n",
    "# -----------\n",
    "f1(x) =  (1/2) * (norm(x-a)^2)\n",
    "a = [0 ; 0; 5]\n",
    "x0 = [5 ; 1; 1]\n",
    "# la gradient de la fonction f1\n",
    "grad_f1(x) = x-a\n",
    "# la hessienne de la fonction f1\n",
    "hess_f1(x) = Matrix(I, 3, 3)\n",
    "algo = \"newton\" # ou newton|gct\n",
    "options = [1e-8;1e-6;1e4;2;9;2]\n",
    "\n",
    "sol_exacte = [0 ; 0; 5] # A completer \n",
    "\n",
    "# Les données sur les contraintes \n",
    "# -----------\n",
    "contrainte(x) =  (x[1]^2) + (x[2]^2) \n",
    "grad_contrainte(x) = [2*x[1] ;2*x[2] ;0]\n",
    "hess_contrainte(x) = [2 0 0;0 2 0;0 0 0]\n",
    "\n",
    "xmin,f_min,flag,nb_iters = Lagrangien_Augmente(algo,f1,contrainte,grad_f1,hess_f1,grad_contrainte,hess_contrainte,x0,options)\n",
    "my_afficher_resultats(\"Lagrangien Augmente\",\"f1\",x0,xmin,f_min,flag,sol_exacte,nb_iters)\n",
    "\n",
    "\n",
    "\n"
   ]
  },
  {
   "cell_type": "markdown",
   "metadata": {},
   "source": [
    "## Interprétation\n",
    " 1.Commenter les résultats obtenus, en étudiant notamment les valeurs de $\\lambda_k$ et $\\mu_k$.\n",
    " \n",
    " 2.Étudier l'influence du paramètre $\\tau$ dans la performance de l'algorithme.\n",
    " \n",
    " 3.**Supplémentaire** : \n",
    "      Que proposez-vous comme méthode pour la résolution des problèmes avec\n",
    "      des contraintes à la fois d'égalité et d'inégalité ? Implémenter (si le temps le permet)\n",
    "      ce nouvel algorithme\n"
   ]
  },
  {
   "cell_type": "markdown",
   "metadata": {},
   "source": [
    "## Vos réponses?\n"
   ]
  }
 ],
 "metadata": {
  "kernelspec": {
   "display_name": "Julia 1.4.2",
   "language": "julia",
   "name": "julia-1.4"
  },
  "language_info": {
   "file_extension": ".jl",
   "mimetype": "application/julia",
   "name": "julia",
   "version": "1.4.2"
  }
 },
 "nbformat": 4,
 "nbformat_minor": 4
}
